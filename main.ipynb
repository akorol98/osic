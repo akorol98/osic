{
 "cells": [
  {
   "cell_type": "code",
   "execution_count": 1,
   "metadata": {},
   "outputs": [],
   "source": [
    "import os\n",
    "from natsort import natsorted\n",
    "import pydicom\n",
    "from pydicom import dcmread\n",
    "import matplotlib.pyplot as plt\n",
    "import numpy as np\n",
    "from tqdm import tqdm"
   ]
  },
  {
   "cell_type": "code",
   "execution_count": 29,
   "metadata": {},
   "outputs": [],
   "source": [
    "import SimpleITK as sitk\n",
    "def getPixelDataWithSitk(patient_path):\n",
    "    reader = sitk.ImageSeriesReader()\n",
    "    dicom_names = reader.GetGDCMSeriesFileNames(patient_path)\n",
    "    reader.SetFileNames(dicom_names)\n",
    "    image = reader.Execute()\n",
    "    return sitk.GetArrayFromImage(image)\n"
   ]
  },
  {
   "cell_type": "code",
   "execution_count": 2,
   "metadata": {},
   "outputs": [],
   "source": [
    "base = 'data/train/'\n",
    "path_to_save = 'out_plots/'"
   ]
  },
  {
   "cell_type": "code",
   "execution_count": 28,
   "metadata": {},
   "outputs": [
    {
     "name": "stderr",
     "output_type": "stream",
     "text": [
      "  0%|          | 0/176 [00:00<?, ?it/s]"
     ]
    },
    {
     "data": {
      "image/png": "[encoded data removed]",
      "text/plain": [
       "<Figure size 936x576 with 3 Axes>"
      ]
     },
     "metadata": {
      "needs_background": "light"
     },
     "output_type": "display_data"
    },
    {
     "name": "stderr",
     "output_type": "stream",
     "text": [
      "  0%|          | 0/176 [00:02<?, ?it/s]\n"
     ]
    }
   ],
   "source": [
    "exclusion_list = [] \n",
    "for pacient in tqdm(os.listdir(base)):\n",
    "#     print(pacient)\n",
    "    pacient_im_names = os.listdir(base+pacient)\n",
    "    pacient_im_names = natsorted(pacient_im_names)\n",
    "    slices = [pydicom.dcmread(base+pacient+'/'+file) for file in pacient_im_names]\n",
    "    try:\n",
    "        slices.sort(key = lambda x: float(x.ImagePositionPatient[2]))\n",
    "    except:\n",
    "        exclusion_list.append(pacient)\n",
    "        continue\n",
    "        \n",
    "    \n",
    "    \n",
    "    j = 1\n",
    "    l = len(slices)\n",
    "    pix_vals = np.array([])\n",
    "#     plt.figure(figsize=(15, 15))\n",
    "    for i in range(l):\n",
    "        if int(l/25) > 0:\n",
    "            if i%int(l/25) == 0 and j<26:\n",
    "                try:\n",
    "                    plt.subplot(5,5,j)\n",
    "                    plt.axis('off')\n",
    "                    plt.imshow(slices[i].pixel_array)\n",
    "                    plt.subplots_adjust(wspace=0.01, hspace=0.01)\n",
    "                    pix_vals = np.append(pix_vals, slices[i].pixel_array)\n",
    "                    j+=1\n",
    "                except:\n",
    "                    exclusion_list.append(pacient)\n",
    "        else:\n",
    "            try:\n",
    "                plt.subplot(5,5,j)\n",
    "                plt.axis('off')\n",
    "                plt.imshow(slices[i].pixel_array)\n",
    "                plt.subplots_adjust(wspace=0.01, hspace=0.01)\n",
    "                pix_vals = np.append(pix_vals, slices[i].pixel_array)\n",
    "                j+=1\n",
    "            except:\n",
    "                exclusion_list.append(pacient)\n",
    "    plt.savefig(f'out_plots/raw_{pacient}.png')\n",
    "    plt.close()\n",
    "    plt.figure(figsize=(13,8))\n",
    "    \n",
    "    plt.subplot(3,1,1)\n",
    "    plt.hist(pix_vals, bins=250, range=(-3000, 4000))\n",
    "    plt.plot([], [], label=f'BitsAllocated: {slices[i].BitsAllocated}')\n",
    "    plt.plot([], [], label=f'Bits Stored: {slices[i].BitsStored}')\n",
    "    plt.plot([], [], label=f'High Bit: {slices[i].HighBit}')\n",
    "    plt.legend()\n",
    "    plt.title('raw', fontsize=15)\n",
    "    \n",
    "    plt.subplot(3,1,2)\n",
    "    slope = slices[i].RescaleSlope\n",
    "    itersecept = slices[i].RescaleIntercept\n",
    "    plt.hist(pix_vals*slope+itersecept, bins=250, range=(-3000, 4000))\n",
    "    plt.title('HU form raw', fontsize=15)\n",
    "    \n",
    "    data = getPixelDataWithSitk(base+pacient)\n",
    "    plt.subplot(3,1,3)\n",
    "    plt.hist(data.ravel(), bins=250, range=(-3000, 4000))\n",
    "    plt.title('sltik', fontsize=15)\n",
    "    \n",
    "    plt.show()\n",
    "    plt.savefig(f'out_plots/hist_raw_{pacient}.png')\n",
    "    plt.close()"
   ]
  },
  {
   "cell_type": "code",
   "execution_count": 7,
   "metadata": {},
   "outputs": [
    {
     "data": {
      "text/plain": [
       "['ID00132637202222178761324',\n",
       " 'ID00026637202179561894768',\n",
       " 'ID00011637202177653955184',\n",
       " 'ID00011637202177653955184',\n",
       " 'ID00011637202177653955184',\n",
       " 'ID00011637202177653955184',\n",
       " 'ID00011637202177653955184',\n",
       " 'ID00011637202177653955184',\n",
       " 'ID00011637202177653955184',\n",
       " 'ID00011637202177653955184',\n",
       " 'ID00011637202177653955184',\n",
       " 'ID00011637202177653955184',\n",
       " 'ID00011637202177653955184',\n",
       " 'ID00011637202177653955184',\n",
       " 'ID00011637202177653955184',\n",
       " 'ID00011637202177653955184',\n",
       " 'ID00011637202177653955184',\n",
       " 'ID00011637202177653955184',\n",
       " 'ID00011637202177653955184',\n",
       " 'ID00011637202177653955184',\n",
       " 'ID00011637202177653955184',\n",
       " 'ID00011637202177653955184',\n",
       " 'ID00011637202177653955184',\n",
       " 'ID00011637202177653955184',\n",
       " 'ID00011637202177653955184',\n",
       " 'ID00011637202177653955184',\n",
       " 'ID00011637202177653955184',\n",
       " 'ID00011637202177653955184',\n",
       " 'ID00011637202177653955184',\n",
       " 'ID00011637202177653955184',\n",
       " 'ID00011637202177653955184',\n",
       " 'ID00011637202177653955184',\n",
       " 'ID00011637202177653955184',\n",
       " 'ID00128637202219474716089']"
      ]
     },
     "execution_count": 7,
     "metadata": {},
     "output_type": "execute_result"
    }
   ],
   "source": [
    "exclusion_list"
   ]
  },
  {
   "cell_type": "code",
   "execution_count": null,
   "metadata": {},
   "outputs": [],
   "source": []
  }
 ],
 "metadata": {
  "kernelspec": {
   "display_name": "Python 3",
   "language": "python",
   "name": "python3"
  },
  "language_info": {
   "codemirror_mode": {
    "name": "ipython",
    "version": 3
   },
   "file_extension": ".py",
   "mimetype": "text/x-python",
   "name": "python",
   "nbconvert_exporter": "python",
   "pygments_lexer": "ipython3",
   "version": "3.8.3"
  }
 },
 "nbformat": 4,
 "nbformat_minor": 4
}
