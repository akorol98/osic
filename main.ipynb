{
 "cells": [
  {
   "cell_type": "code",
   "execution_count": 4,
   "metadata": {},
   "outputs": [],
   "source": [
    "import os\n",
    "from natsort import natsorted\n",
    "import pydicom\n",
    "from pydicom import dcmread\n",
    "import matplotlib.pyplot as plt\n",
    "import numpy as np\n",
    "from tqdm import tqdm"
   ]
  },
  {
   "cell_type": "code",
   "execution_count": 5,
   "metadata": {},
   "outputs": [],
   "source": [
    "base = 'data/train/'\n",
    "path_to_save = 'out_plots/'"
   ]
  },
  {
   "cell_type": "code",
   "execution_count": 6,
   "metadata": {},
   "outputs": [
    {
     "name": "stderr",
     "output_type": "stream",
     "text": [
      " 68%|██████▊   | 120/176 [02:43<01:22,  1.48s/it]<ipython-input-6-0deb7f25f8bb>:23: MatplotlibDeprecationWarning: Adding an axes using the same arguments as a previous axes currently reuses the earlier instance.  In a future version, a new instance will always be created and returned.  Meanwhile, this warning can be suppressed, and the future behavior ensured, by passing a unique label to each axes instance.\n",
      "  plt.subplot(5,5,j)\n",
      "100%|██████████| 176/176 [03:59<00:00,  1.36s/it]\n"
     ]
    }
   ],
   "source": [
    "exclusion_list = [] \n",
    "for pacient in tqdm(os.listdir(base)):\n",
    "#     print(pacient)\n",
    "    pacient_im_names = os.listdir(base+pacient)\n",
    "    pacient_im_names = natsorted(pacient_im_names)\n",
    "    slices = [pydicom.dcmread(base+pacient+'/'+file) for file in pacient_im_names]\n",
    "    try:\n",
    "        slices.sort(key = lambda x: float(x.ImagePositionPatient[2]))\n",
    "    except:\n",
    "        exclusion_list.append(pacient)\n",
    "        continue\n",
    "        \n",
    "    \n",
    "    \n",
    "    j = 1\n",
    "    l = len(slices)\n",
    "    pix_vals = np.array([])\n",
    "#     plt.figure(figsize=(15, 15))\n",
    "    for i in range(l):\n",
    "        if int(l/25) > 0:\n",
    "            if i%int(l/25) == 0 and j<26:\n",
    "                try:\n",
    "                    plt.subplot(5,5,j)\n",
    "                    plt.axis('off')\n",
    "                    plt.imshow(slices[i].pixel_array)\n",
    "                    plt.subplots_adjust(wspace=0.01, hspace=0.01)\n",
    "                    pix_vals = np.append(pix_vals, slices[i].pixel_array)\n",
    "                    j+=1\n",
    "                except:\n",
    "                    exclusion_list.append(pacient)\n",
    "        else:\n",
    "            try:\n",
    "                plt.subplot(5,5,j)\n",
    "                plt.axis('off').savefig(f'out_plots/raw_{pacient}.png')\n",
    "    plt.close()\n",
    "    plt.figure(figsize=(13,5))\n",
    "    plt.hist(pix_vals, bins=100)\n",
    "    plt.savefig(f'out_plots/hist_raw_{pacient}.png')\n",
    "    plt.close()\n",
    "                plt.imshow(slices[i].pixel_array)\n",
    "                plt.subplots_adjust(wspace=0.01, hspace=0.01)\n",
    "                pix_vals = np.append(pix_vals, slices[i].pixel_array)\n",
    "                j+=1\n",
    "            except:\n",
    "                exclusion_list.append(pacient)\n",
    "    plt.savefig(f'out_plots/raw_{pacient}.png')\n",
    "    plt.close()\n",
    "    plt.figure(figsize=(13,5))\n",
    "    plt.hist(pix_vals, bins=100)\n",
    "    plt.savefig(f'out_plots/hist_raw_{pacient}.png')\n",
    "    plt.close()"
   ]
  },
  {
   "cell_type": "code",
   "execution_count": 7,
   "metadata": {},
   "outputs": [
    {
     "data": {
      "text/plain": [
       "['ID00132637202222178761324',\n",
       " 'ID00026637202179561894768',\n",
       " 'ID00011637202177653955184',\n",
       " 'ID00011637202177653955184',\n",
       " 'ID00011637202177653955184',\n",
       " 'ID00011637202177653955184',\n",
       " 'ID00011637202177653955184',\n",
       " 'ID00011637202177653955184',\n",
       " 'ID00011637202177653955184',\n",
       " 'ID00011637202177653955184',\n",
       " 'ID00011637202177653955184',\n",
       " 'ID00011637202177653955184',\n",
       " 'ID00011637202177653955184',\n",
       " 'ID00011637202177653955184',\n",
       " 'ID00011637202177653955184',\n",
       " 'ID00011637202177653955184',\n",
       " 'ID00011637202177653955184',\n",
       " 'ID00011637202177653955184',\n",
       " 'ID00011637202177653955184',\n",
       " 'ID00011637202177653955184',\n",
       " 'ID00011637202177653955184',\n",
       " 'ID00011637202177653955184',\n",
       " 'ID00011637202177653955184',\n",
       " 'ID00011637202177653955184',\n",
       " 'ID00011637202177653955184',\n",
       " 'ID00011637202177653955184',\n",
       " 'ID00011637202177653955184',\n",
       " 'ID00011637202177653955184',\n",
       " 'ID00011637202177653955184',\n",
       " 'ID00011637202177653955184',\n",
       " 'ID00011637202177653955184',\n",
       " 'ID00011637202177653955184',\n",
       " 'ID00011637202177653955184',\n",
       " 'ID00128637202219474716089']"
      ]
     },
     "execution_count": 7,
     "metadata": {},
     "output_type": "execute_result"
    }
   ],
   "source": [
    "exclusion_list"
   ]
  },
  {
   "cell_type": "code",
   "execution_count": null,
   "metadata": {},
   "outputs": [],
   "source": []
  }
 ],
 "metadata": {
  "kernelspec": {
   "display_name": "Python 3",
   "language": "python",
   "name": "python3"
  },
  "language_info": {
   "codemirror_mode": {
    "name": "ipython",
    "version": 3
   },
   "file_extension": ".py",
   "mimetype": "text/x-python",
   "name": "python",
   "nbconvert_exporter": "python",
   "pygments_lexer": "ipython3",
   "version": "3.8.3"
  }
 },
 "nbformat": 4,
 "nbformat_minor": 4
}
